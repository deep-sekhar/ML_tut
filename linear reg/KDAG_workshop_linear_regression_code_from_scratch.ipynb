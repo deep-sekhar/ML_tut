{
  "cells": [
    {
      "cell_type": "code",
      "execution_count": 19,
      "metadata": {
        "id": "N65_l4yAOinS"
      },
      "outputs": [],
      "source": [
        "import numpy as np\n",
        "import pandas as pd"
      ]
    },
    {
      "cell_type": "code",
      "execution_count": 20,
      "metadata": {
        "colab": {
          "base_uri": "https://localhost:8080/",
          "height": 363
        },
        "id": "0JSpIK-rPM2b",
        "outputId": "134a3de2-4b99-47b4-aa6e-8ede83e80b46"
      },
      "outputs": [
        {
          "data": {
            "text/html": [
              "<div>\n",
              "<style scoped>\n",
              "    .dataframe tbody tr th:only-of-type {\n",
              "        vertical-align: middle;\n",
              "    }\n",
              "\n",
              "    .dataframe tbody tr th {\n",
              "        vertical-align: top;\n",
              "    }\n",
              "\n",
              "    .dataframe thead th {\n",
              "        text-align: right;\n",
              "    }\n",
              "</style>\n",
              "<table border=\"1\" class=\"dataframe\">\n",
              "  <thead>\n",
              "    <tr style=\"text-align: right;\">\n",
              "      <th></th>\n",
              "      <th>age</th>\n",
              "      <th>sex</th>\n",
              "      <th>bmi</th>\n",
              "      <th>children</th>\n",
              "      <th>smoker</th>\n",
              "      <th>region</th>\n",
              "      <th>charges</th>\n",
              "    </tr>\n",
              "  </thead>\n",
              "  <tbody>\n",
              "    <tr>\n",
              "      <th>0</th>\n",
              "      <td>19</td>\n",
              "      <td>female</td>\n",
              "      <td>27.900</td>\n",
              "      <td>0</td>\n",
              "      <td>yes</td>\n",
              "      <td>southwest</td>\n",
              "      <td>16884.92400</td>\n",
              "    </tr>\n",
              "    <tr>\n",
              "      <th>1</th>\n",
              "      <td>18</td>\n",
              "      <td>male</td>\n",
              "      <td>33.770</td>\n",
              "      <td>1</td>\n",
              "      <td>no</td>\n",
              "      <td>southeast</td>\n",
              "      <td>1725.55230</td>\n",
              "    </tr>\n",
              "    <tr>\n",
              "      <th>2</th>\n",
              "      <td>28</td>\n",
              "      <td>male</td>\n",
              "      <td>33.000</td>\n",
              "      <td>3</td>\n",
              "      <td>no</td>\n",
              "      <td>southeast</td>\n",
              "      <td>4449.46200</td>\n",
              "    </tr>\n",
              "    <tr>\n",
              "      <th>3</th>\n",
              "      <td>33</td>\n",
              "      <td>male</td>\n",
              "      <td>22.705</td>\n",
              "      <td>0</td>\n",
              "      <td>no</td>\n",
              "      <td>northwest</td>\n",
              "      <td>21984.47061</td>\n",
              "    </tr>\n",
              "    <tr>\n",
              "      <th>4</th>\n",
              "      <td>32</td>\n",
              "      <td>male</td>\n",
              "      <td>28.880</td>\n",
              "      <td>0</td>\n",
              "      <td>no</td>\n",
              "      <td>northwest</td>\n",
              "      <td>3866.85520</td>\n",
              "    </tr>\n",
              "    <tr>\n",
              "      <th>5</th>\n",
              "      <td>31</td>\n",
              "      <td>female</td>\n",
              "      <td>25.740</td>\n",
              "      <td>0</td>\n",
              "      <td>no</td>\n",
              "      <td>southeast</td>\n",
              "      <td>3756.62160</td>\n",
              "    </tr>\n",
              "    <tr>\n",
              "      <th>6</th>\n",
              "      <td>46</td>\n",
              "      <td>female</td>\n",
              "      <td>33.440</td>\n",
              "      <td>1</td>\n",
              "      <td>no</td>\n",
              "      <td>southeast</td>\n",
              "      <td>8240.58960</td>\n",
              "    </tr>\n",
              "    <tr>\n",
              "      <th>7</th>\n",
              "      <td>37</td>\n",
              "      <td>female</td>\n",
              "      <td>27.740</td>\n",
              "      <td>3</td>\n",
              "      <td>no</td>\n",
              "      <td>northwest</td>\n",
              "      <td>7281.50560</td>\n",
              "    </tr>\n",
              "    <tr>\n",
              "      <th>8</th>\n",
              "      <td>37</td>\n",
              "      <td>male</td>\n",
              "      <td>29.830</td>\n",
              "      <td>2</td>\n",
              "      <td>no</td>\n",
              "      <td>northeast</td>\n",
              "      <td>6406.41070</td>\n",
              "    </tr>\n",
              "    <tr>\n",
              "      <th>9</th>\n",
              "      <td>60</td>\n",
              "      <td>female</td>\n",
              "      <td>25.840</td>\n",
              "      <td>0</td>\n",
              "      <td>no</td>\n",
              "      <td>northwest</td>\n",
              "      <td>28923.13692</td>\n",
              "    </tr>\n",
              "  </tbody>\n",
              "</table>\n",
              "</div>"
            ],
            "text/plain": [
              "   age     sex     bmi  children smoker     region      charges\n",
              "0   19  female  27.900         0    yes  southwest  16884.92400\n",
              "1   18    male  33.770         1     no  southeast   1725.55230\n",
              "2   28    male  33.000         3     no  southeast   4449.46200\n",
              "3   33    male  22.705         0     no  northwest  21984.47061\n",
              "4   32    male  28.880         0     no  northwest   3866.85520\n",
              "5   31  female  25.740         0     no  southeast   3756.62160\n",
              "6   46  female  33.440         1     no  southeast   8240.58960\n",
              "7   37  female  27.740         3     no  northwest   7281.50560\n",
              "8   37    male  29.830         2     no  northeast   6406.41070\n",
              "9   60  female  25.840         0     no  northwest  28923.13692"
            ]
          },
          "execution_count": 20,
          "metadata": {},
          "output_type": "execute_result"
        }
      ],
      "source": [
        "df = pd.read_csv('insurance.csv')\n",
        "df.head(10)"
      ]
    },
    {
      "cell_type": "code",
      "execution_count": 21,
      "metadata": {
        "colab": {
          "base_uri": "https://localhost:8080/"
        },
        "id": "xTSlXxh5UdGf",
        "outputId": "db37da14-8c8d-4592-cdab-ed2bbcae0a4d"
      },
      "outputs": [
        {
          "name": "stdout",
          "output_type": "stream",
          "text": [
            "male\n",
            "yes\n",
            "   age     bmi  children     region      charges  sex  smoker\n",
            "0   19  27.900         0  southwest  16884.92400    0       1\n",
            "1   18  33.770         1  southeast   1725.55230    1       0\n",
            "2   28  33.000         3  southeast   4449.46200    1       0\n",
            "3   33  22.705         0  northwest  21984.47061    1       0\n",
            "4   32  28.880         0  northwest   3866.85520    1       0\n"
          ]
        }
      ],
      "source": [
        "#converting the categorical data into numerical data\n",
        "catg_columns = ['sex', 'smoker']\n",
        "\n",
        "for i in catg_columns:\n",
        "  df_one = pd.get_dummies(df[i])\n",
        "  column_ = df_one.columns[1]\n",
        "  print(column_)\n",
        "  df_one.pop(df_one.columns[0])\n",
        "  df = pd.concat((df, df_one), axis=1)\n",
        "  df.pop(i)\n",
        "  df = df.rename(columns={column_:i})\n",
        "  \n",
        "\n",
        "print(df.head())\n",
        "#0 if female and 1 if male\n",
        "#0 is no and 1 if yes\n"
      ]
    },
    {
      "cell_type": "code",
      "execution_count": 22,
      "metadata": {
        "colab": {
          "base_uri": "https://localhost:8080/"
        },
        "id": "9X12SKxlU6K5",
        "outputId": "426ebdfe-d743-4b93-dc07-e27661181157"
      },
      "outputs": [
        {
          "data": {
            "text/plain": [
              "array(['southwest', 'southeast', 'northwest', 'northeast'], dtype=object)"
            ]
          },
          "execution_count": 22,
          "metadata": {},
          "output_type": "execute_result"
        }
      ],
      "source": [
        "df['region'].unique()"
      ]
    },
    {
      "cell_type": "code",
      "execution_count": 23,
      "metadata": {
        "id": "-0Gsa86A_7sH"
      },
      "outputs": [],
      "source": [
        "#region is 4 category data, converting it in numerical data\n",
        "\n",
        "region_dict= {'southwest': 0,  'southeast':1, 'northwest':2, 'northeast':3}\n",
        "region = []\n",
        "for i in df['region']:\n",
        "  region.append(region_dict.get(i))\n",
        "\n",
        "df.pop('region')\n",
        "df['region']= region"
      ]
    },
    {
      "cell_type": "code",
      "execution_count": 24,
      "metadata": {
        "colab": {
          "base_uri": "https://localhost:8080/",
          "height": 206
        },
        "id": "N21PQ2J6BPnQ",
        "outputId": "712db18e-1a48-4bc8-b476-b45c66846c7c"
      },
      "outputs": [
        {
          "data": {
            "text/html": [
              "<div>\n",
              "<style scoped>\n",
              "    .dataframe tbody tr th:only-of-type {\n",
              "        vertical-align: middle;\n",
              "    }\n",
              "\n",
              "    .dataframe tbody tr th {\n",
              "        vertical-align: top;\n",
              "    }\n",
              "\n",
              "    .dataframe thead th {\n",
              "        text-align: right;\n",
              "    }\n",
              "</style>\n",
              "<table border=\"1\" class=\"dataframe\">\n",
              "  <thead>\n",
              "    <tr style=\"text-align: right;\">\n",
              "      <th></th>\n",
              "      <th>age</th>\n",
              "      <th>bmi</th>\n",
              "      <th>children</th>\n",
              "      <th>charges</th>\n",
              "      <th>sex</th>\n",
              "      <th>smoker</th>\n",
              "      <th>region</th>\n",
              "    </tr>\n",
              "  </thead>\n",
              "  <tbody>\n",
              "    <tr>\n",
              "      <th>0</th>\n",
              "      <td>19</td>\n",
              "      <td>27.900</td>\n",
              "      <td>0</td>\n",
              "      <td>16884.92400</td>\n",
              "      <td>0</td>\n",
              "      <td>1</td>\n",
              "      <td>0</td>\n",
              "    </tr>\n",
              "    <tr>\n",
              "      <th>1</th>\n",
              "      <td>18</td>\n",
              "      <td>33.770</td>\n",
              "      <td>1</td>\n",
              "      <td>1725.55230</td>\n",
              "      <td>1</td>\n",
              "      <td>0</td>\n",
              "      <td>1</td>\n",
              "    </tr>\n",
              "    <tr>\n",
              "      <th>2</th>\n",
              "      <td>28</td>\n",
              "      <td>33.000</td>\n",
              "      <td>3</td>\n",
              "      <td>4449.46200</td>\n",
              "      <td>1</td>\n",
              "      <td>0</td>\n",
              "      <td>1</td>\n",
              "    </tr>\n",
              "    <tr>\n",
              "      <th>3</th>\n",
              "      <td>33</td>\n",
              "      <td>22.705</td>\n",
              "      <td>0</td>\n",
              "      <td>21984.47061</td>\n",
              "      <td>1</td>\n",
              "      <td>0</td>\n",
              "      <td>2</td>\n",
              "    </tr>\n",
              "    <tr>\n",
              "      <th>4</th>\n",
              "      <td>32</td>\n",
              "      <td>28.880</td>\n",
              "      <td>0</td>\n",
              "      <td>3866.85520</td>\n",
              "      <td>1</td>\n",
              "      <td>0</td>\n",
              "      <td>2</td>\n",
              "    </tr>\n",
              "  </tbody>\n",
              "</table>\n",
              "</div>"
            ],
            "text/plain": [
              "   age     bmi  children      charges  sex  smoker  region\n",
              "0   19  27.900         0  16884.92400    0       1       0\n",
              "1   18  33.770         1   1725.55230    1       0       1\n",
              "2   28  33.000         3   4449.46200    1       0       1\n",
              "3   33  22.705         0  21984.47061    1       0       2\n",
              "4   32  28.880         0   3866.85520    1       0       2"
            ]
          },
          "execution_count": 24,
          "metadata": {},
          "output_type": "execute_result"
        }
      ],
      "source": [
        "df.head()"
      ]
    },
    {
      "cell_type": "code",
      "execution_count": 25,
      "metadata": {
        "colab": {
          "base_uri": "https://localhost:8080/",
          "height": 206
        },
        "id": "Ak46lyuLCcEN",
        "outputId": "d84a0c23-b922-454a-c883-916a07507c35"
      },
      "outputs": [
        {
          "data": {
            "text/html": [
              "<div>\n",
              "<style scoped>\n",
              "    .dataframe tbody tr th:only-of-type {\n",
              "        vertical-align: middle;\n",
              "    }\n",
              "\n",
              "    .dataframe tbody tr th {\n",
              "        vertical-align: top;\n",
              "    }\n",
              "\n",
              "    .dataframe thead th {\n",
              "        text-align: right;\n",
              "    }\n",
              "</style>\n",
              "<table border=\"1\" class=\"dataframe\">\n",
              "  <thead>\n",
              "    <tr style=\"text-align: right;\">\n",
              "      <th></th>\n",
              "      <th>age</th>\n",
              "      <th>sex</th>\n",
              "      <th>bmi</th>\n",
              "      <th>children</th>\n",
              "      <th>smoker</th>\n",
              "      <th>region</th>\n",
              "      <th>charges</th>\n",
              "    </tr>\n",
              "  </thead>\n",
              "  <tbody>\n",
              "    <tr>\n",
              "      <th>0</th>\n",
              "      <td>19</td>\n",
              "      <td>0</td>\n",
              "      <td>27.900</td>\n",
              "      <td>0</td>\n",
              "      <td>1</td>\n",
              "      <td>0</td>\n",
              "      <td>16884.92400</td>\n",
              "    </tr>\n",
              "    <tr>\n",
              "      <th>1</th>\n",
              "      <td>18</td>\n",
              "      <td>1</td>\n",
              "      <td>33.770</td>\n",
              "      <td>1</td>\n",
              "      <td>0</td>\n",
              "      <td>1</td>\n",
              "      <td>1725.55230</td>\n",
              "    </tr>\n",
              "    <tr>\n",
              "      <th>2</th>\n",
              "      <td>28</td>\n",
              "      <td>1</td>\n",
              "      <td>33.000</td>\n",
              "      <td>3</td>\n",
              "      <td>0</td>\n",
              "      <td>1</td>\n",
              "      <td>4449.46200</td>\n",
              "    </tr>\n",
              "    <tr>\n",
              "      <th>3</th>\n",
              "      <td>33</td>\n",
              "      <td>1</td>\n",
              "      <td>22.705</td>\n",
              "      <td>0</td>\n",
              "      <td>0</td>\n",
              "      <td>2</td>\n",
              "      <td>21984.47061</td>\n",
              "    </tr>\n",
              "    <tr>\n",
              "      <th>4</th>\n",
              "      <td>32</td>\n",
              "      <td>1</td>\n",
              "      <td>28.880</td>\n",
              "      <td>0</td>\n",
              "      <td>0</td>\n",
              "      <td>2</td>\n",
              "      <td>3866.85520</td>\n",
              "    </tr>\n",
              "  </tbody>\n",
              "</table>\n",
              "</div>"
            ],
            "text/plain": [
              "   age  sex     bmi  children  smoker  region      charges\n",
              "0   19    0  27.900         0       1       0  16884.92400\n",
              "1   18    1  33.770         1       0       1   1725.55230\n",
              "2   28    1  33.000         3       0       1   4449.46200\n",
              "3   33    1  22.705         0       0       2  21984.47061\n",
              "4   32    1  28.880         0       0       2   3866.85520"
            ]
          },
          "execution_count": 25,
          "metadata": {},
          "output_type": "execute_result"
        }
      ],
      "source": [
        "#reindexing the columns as they were\n",
        "df = df.reindex(columns=['age','sex','bmi', 'children', 'smoker', 'region', 'charges' ])\n",
        "df.head()"
      ]
    },
    {
      "cell_type": "code",
      "execution_count": 26,
      "metadata": {
        "id": "Ayelt6FxPfk2"
      },
      "outputs": [
        {
          "data": {
            "text/html": [
              "<div>\n",
              "<style scoped>\n",
              "    .dataframe tbody tr th:only-of-type {\n",
              "        vertical-align: middle;\n",
              "    }\n",
              "\n",
              "    .dataframe tbody tr th {\n",
              "        vertical-align: top;\n",
              "    }\n",
              "\n",
              "    .dataframe thead th {\n",
              "        text-align: right;\n",
              "    }\n",
              "</style>\n",
              "<table border=\"1\" class=\"dataframe\">\n",
              "  <thead>\n",
              "    <tr style=\"text-align: right;\">\n",
              "      <th></th>\n",
              "      <th>age</th>\n",
              "      <th>sex</th>\n",
              "      <th>bmi</th>\n",
              "      <th>children</th>\n",
              "      <th>smoker</th>\n",
              "      <th>region</th>\n",
              "      <th>charges</th>\n",
              "    </tr>\n",
              "  </thead>\n",
              "  <tbody>\n",
              "    <tr>\n",
              "      <th>0</th>\n",
              "      <td>-1.438227</td>\n",
              "      <td>-1.010141</td>\n",
              "      <td>-0.453151</td>\n",
              "      <td>-0.908274</td>\n",
              "      <td>1.969850</td>\n",
              "      <td>-1.343402</td>\n",
              "      <td>0.298472</td>\n",
              "    </tr>\n",
              "    <tr>\n",
              "      <th>1</th>\n",
              "      <td>-1.509401</td>\n",
              "      <td>0.989221</td>\n",
              "      <td>0.509431</td>\n",
              "      <td>-0.078738</td>\n",
              "      <td>-0.507273</td>\n",
              "      <td>-0.438331</td>\n",
              "      <td>-0.953333</td>\n",
              "    </tr>\n",
              "    <tr>\n",
              "      <th>2</th>\n",
              "      <td>-0.797655</td>\n",
              "      <td>0.989221</td>\n",
              "      <td>0.383164</td>\n",
              "      <td>1.580335</td>\n",
              "      <td>-0.507273</td>\n",
              "      <td>-0.438331</td>\n",
              "      <td>-0.728402</td>\n",
              "    </tr>\n",
              "    <tr>\n",
              "      <th>3</th>\n",
              "      <td>-0.441782</td>\n",
              "      <td>0.989221</td>\n",
              "      <td>-1.305043</td>\n",
              "      <td>-0.908274</td>\n",
              "      <td>-0.507273</td>\n",
              "      <td>0.466741</td>\n",
              "      <td>0.719574</td>\n",
              "    </tr>\n",
              "    <tr>\n",
              "      <th>4</th>\n",
              "      <td>-0.512957</td>\n",
              "      <td>0.989221</td>\n",
              "      <td>-0.292447</td>\n",
              "      <td>-0.908274</td>\n",
              "      <td>-0.507273</td>\n",
              "      <td>0.466741</td>\n",
              "      <td>-0.776512</td>\n",
              "    </tr>\n",
              "    <tr>\n",
              "      <th>...</th>\n",
              "      <td>...</td>\n",
              "      <td>...</td>\n",
              "      <td>...</td>\n",
              "      <td>...</td>\n",
              "      <td>...</td>\n",
              "      <td>...</td>\n",
              "      <td>...</td>\n",
              "    </tr>\n",
              "    <tr>\n",
              "      <th>1333</th>\n",
              "      <td>0.768185</td>\n",
              "      <td>0.989221</td>\n",
              "      <td>0.050278</td>\n",
              "      <td>1.580335</td>\n",
              "      <td>-0.507273</td>\n",
              "      <td>0.466741</td>\n",
              "      <td>-0.220468</td>\n",
              "    </tr>\n",
              "    <tr>\n",
              "      <th>1334</th>\n",
              "      <td>-1.509401</td>\n",
              "      <td>-1.010141</td>\n",
              "      <td>0.206062</td>\n",
              "      <td>-0.908274</td>\n",
              "      <td>-0.507273</td>\n",
              "      <td>1.371813</td>\n",
              "      <td>-0.913661</td>\n",
              "    </tr>\n",
              "    <tr>\n",
              "      <th>1335</th>\n",
              "      <td>-1.509401</td>\n",
              "      <td>-1.010141</td>\n",
              "      <td>1.014499</td>\n",
              "      <td>-0.908274</td>\n",
              "      <td>-0.507273</td>\n",
              "      <td>-0.438331</td>\n",
              "      <td>-0.961237</td>\n",
              "    </tr>\n",
              "    <tr>\n",
              "      <th>1336</th>\n",
              "      <td>-1.295877</td>\n",
              "      <td>-1.010141</td>\n",
              "      <td>-0.797515</td>\n",
              "      <td>-0.908274</td>\n",
              "      <td>-0.507273</td>\n",
              "      <td>-1.343402</td>\n",
              "      <td>-0.930014</td>\n",
              "    </tr>\n",
              "    <tr>\n",
              "      <th>1337</th>\n",
              "      <td>1.551106</td>\n",
              "      <td>-1.010141</td>\n",
              "      <td>-0.261290</td>\n",
              "      <td>-0.908274</td>\n",
              "      <td>1.969850</td>\n",
              "      <td>0.466741</td>\n",
              "      <td>1.310563</td>\n",
              "    </tr>\n",
              "  </tbody>\n",
              "</table>\n",
              "<p>1338 rows × 7 columns</p>\n",
              "</div>"
            ],
            "text/plain": [
              "           age       sex       bmi  children    smoker    region   charges\n",
              "0    -1.438227 -1.010141 -0.453151 -0.908274  1.969850 -1.343402  0.298472\n",
              "1    -1.509401  0.989221  0.509431 -0.078738 -0.507273 -0.438331 -0.953333\n",
              "2    -0.797655  0.989221  0.383164  1.580335 -0.507273 -0.438331 -0.728402\n",
              "3    -0.441782  0.989221 -1.305043 -0.908274 -0.507273  0.466741  0.719574\n",
              "4    -0.512957  0.989221 -0.292447 -0.908274 -0.507273  0.466741 -0.776512\n",
              "...        ...       ...       ...       ...       ...       ...       ...\n",
              "1333  0.768185  0.989221  0.050278  1.580335 -0.507273  0.466741 -0.220468\n",
              "1334 -1.509401 -1.010141  0.206062 -0.908274 -0.507273  1.371813 -0.913661\n",
              "1335 -1.509401 -1.010141  1.014499 -0.908274 -0.507273 -0.438331 -0.961237\n",
              "1336 -1.295877 -1.010141 -0.797515 -0.908274 -0.507273 -1.343402 -0.930014\n",
              "1337  1.551106 -1.010141 -0.261290 -0.908274  1.969850  0.466741  1.310563\n",
              "\n",
              "[1338 rows x 7 columns]"
            ]
          },
          "execution_count": 26,
          "metadata": {},
          "output_type": "execute_result"
        }
      ],
      "source": [
        "#normalization\n",
        "\n",
        "df = (df - df.mean())/df.std()\n",
        "\n",
        "x = df.values[:,0:6]\n",
        "y = df.values[:, 6]\n",
        "\n",
        "df\n"
      ]
    },
    {
      "cell_type": "code",
      "execution_count": 27,
      "metadata": {
        "id": "edEuCmu5QJK4"
      },
      "outputs": [],
      "source": [
        "#splitting the data in 70:30 ratio as train and test\n",
        "x_train = x[:int(0.7*len(x))]\n",
        "x_test = x[int(0.7*len(x)):]\n",
        "y_train = y[:int(0.7*len(x))]\n",
        "y_test = y[int(0.7*len(x)):]"
      ]
    },
    {
      "cell_type": "code",
      "execution_count": 28,
      "metadata": {
        "id": "3O_RP0MDQPmW"
      },
      "outputs": [],
      "source": [
        "#defining cost function\n",
        "def cost_function(x, y, w, b):\n",
        "  m = len(y)\n",
        "  j = np.sum((x.dot(w)+b-y)**2)/(2*m)\n",
        "  return j\n",
        "  "
      ]
    },
    {
      "cell_type": "code",
      "execution_count": 29,
      "metadata": {
        "id": "qhtDWibWZgA9"
      },
      "outputs": [],
      "source": [
        "#optimization by batch gradient descent\n",
        "def optimize(x, y, w, b, alpha, iterations):\n",
        "  cost_list = []\n",
        "  for i in range(iterations):\n",
        "    \n",
        "    loss = x.dot(w)+b - y\n",
        "\n",
        "    weight_gradient = x.T.dot(loss)/len(y)\n",
        "    bias_gradient = np.sum(loss)/len(y)\n",
        "\n",
        "    w = w - alpha*weight_gradient\n",
        "    b = b - alpha*bias_gradient\n",
        "\n",
        "    cost = cost_function(x,y, w, b)\n",
        "    cost_list.append(cost)\n",
        "\n",
        "    if i%200==0:\n",
        "      print(cost)\n",
        "\n",
        "  return w, b, cost_list \n",
        "\n"
      ]
    },
    {
      "cell_type": "code",
      "execution_count": 30,
      "metadata": {
        "id": "WwvnInuPlvbH"
      },
      "outputs": [],
      "source": [
        "#predicting the y for given weights\n",
        "def predict_y(x, w, b):\n",
        "  return x.dot(w)+b\n"
      ]
    },
    {
      "cell_type": "code",
      "execution_count": 31,
      "metadata": {
        "id": "huPGqFcHlkhl"
      },
      "outputs": [],
      "source": [
        "#calculating the r^2 accuracy\n",
        "def r2(y_pred, y):\n",
        "  rss = np.sum((y_pred - y) ** 2)\n",
        "  tss = np.sum((y-y.mean()) ** 2)\n",
        "\n",
        "  r2 = 1-(rss/tss)\n",
        "  return r2\n"
      ]
    },
    {
      "cell_type": "code",
      "execution_count": 32,
      "metadata": {
        "colab": {
          "base_uri": "https://localhost:8080/"
        },
        "id": "tsnIvo59M1Hy",
        "outputId": "ad7d6696-7024-4c7f-f362-c556e2b80ede"
      },
      "outputs": [
        {
          "name": "stdout",
          "output_type": "stream",
          "text": [
            "0.49191712388966163\n",
            "0.2870741327446541\n",
            "0.194299652419404\n",
            "0.152159309698452\n",
            "0.13296387015911715\n",
            "0.12419587540689582\n",
            "0.12018000744901539\n",
            "0.1183357876521491\n",
            "0.11748664768508009\n",
            "0.11709467111475236\n"
          ]
        }
      ],
      "source": [
        "w, b, cost_list= optimize(x_train, y_train, np.zeros(x.shape[1]), 0, 0.002,iterations=2000)"
      ]
    },
    {
      "cell_type": "code",
      "execution_count": 33,
      "metadata": {
        "id": "gqv2ulL9kKGZ"
      },
      "outputs": [],
      "source": [
        "y_pred_train = predict_y(x_train, w, b)\n",
        "y_pred_test = predict_y(x_test, w, b)\n"
      ]
    },
    {
      "cell_type": "code",
      "execution_count": 34,
      "metadata": {
        "colab": {
          "base_uri": "https://localhost:8080/"
        },
        "id": "Qe3GIXaYm2rP",
        "outputId": "6fa2a296-df00-4a47-fdd2-3945f85d0933"
      },
      "outputs": [
        {
          "name": "stdout",
          "output_type": "stream",
          "text": [
            "0.7630060971412639\n",
            "0.7217044502029757\n"
          ]
        }
      ],
      "source": [
        "print(r2(y_pred_train, y_train))\n",
        "print(r2(y_pred_test, y_test))"
      ]
    },
    {
      "cell_type": "code",
      "execution_count": 35,
      "metadata": {
        "colab": {
          "base_uri": "https://localhost:8080/"
        },
        "id": "j1SWHwP-86Gf",
        "outputId": "490ff35d-ef94-4e03-bf7f-d47cd19b4b83"
      },
      "outputs": [
        {
          "name": "stdout",
          "output_type": "stream",
          "text": [
            "Requirement already satisfied: sklearn in c:\\python3.9\\lib\\site-packages (0.0)\n",
            "Requirement already satisfied: scikit-learn in c:\\python3.9\\lib\\site-packages (from sklearn) (1.0)\n",
            "Requirement already satisfied: threadpoolctl>=2.0.0 in c:\\python3.9\\lib\\site-packages (from scikit-learn->sklearn) (3.0.0)\n",
            "Requirement already satisfied: numpy>=1.14.6 in c:\\python3.9\\lib\\site-packages (from scikit-learn->sklearn) (1.21.2)\n",
            "Requirement already satisfied: scipy>=1.1.0 in c:\\python3.9\\lib\\site-packages (from scikit-learn->sklearn) (1.7.1)\n",
            "Requirement already satisfied: joblib>=0.11 in c:\\python3.9\\lib\\site-packages (from scikit-learn->sklearn) (1.1.0)\n"
          ]
        },
        {
          "name": "stderr",
          "output_type": "stream",
          "text": [
            "WARNING: You are using pip version 21.2.4; however, version 21.3.1 is available.\n",
            "You should consider upgrading via the 'c:\\python3.9\\python.exe -m pip install --upgrade pip' command.\n"
          ]
        }
      ],
      "source": [
        "!pip install sklearn"
      ]
    },
    {
      "cell_type": "code",
      "execution_count": 36,
      "metadata": {
        "id": "plsRo5xz87jx"
      },
      "outputs": [],
      "source": [
        "from sklearn.linear_model import LinearRegression"
      ]
    },
    {
      "cell_type": "code",
      "execution_count": 37,
      "metadata": {
        "id": "m-JDuLRe9IMe"
      },
      "outputs": [],
      "source": [
        "reg=LinearRegression()"
      ]
    },
    {
      "cell_type": "code",
      "execution_count": 38,
      "metadata": {
        "colab": {
          "base_uri": "https://localhost:8080/"
        },
        "id": "rX5ZnJ7t9WBh",
        "outputId": "bce06244-b3a8-4a69-90a1-dae50684ee9b"
      },
      "outputs": [
        {
          "data": {
            "text/plain": [
              "LinearRegression()"
            ]
          },
          "execution_count": 38,
          "metadata": {},
          "output_type": "execute_result"
        }
      ],
      "source": [
        "reg.fit(x_train,y_train)"
      ]
    },
    {
      "cell_type": "code",
      "execution_count": 39,
      "metadata": {
        "colab": {
          "base_uri": "https://localhost:8080/"
        },
        "id": "rWnUvr9B9ebH",
        "outputId": "405fa4a3-198f-4d14-dab8-ece1c71860e2"
      },
      "outputs": [
        {
          "name": "stdout",
          "output_type": "stream",
          "text": [
            "0.7208798772569873\n"
          ]
        }
      ],
      "source": [
        "print(reg.score(x_test,y_test))"
      ]
    },
    {
      "cell_type": "code",
      "execution_count": null,
      "metadata": {
        "id": "enFuLD559rKw"
      },
      "outputs": [],
      "source": []
    }
  ],
  "metadata": {
    "colab": {
      "collapsed_sections": [],
      "name": "KDAG_workshop:linear_regression_code_from_scratch.ipynb",
      "provenance": []
    },
    "kernelspec": {
      "display_name": "Python 3",
      "name": "python3"
    },
    "language_info": {
      "codemirror_mode": {
        "name": "ipython",
        "version": 3
      },
      "file_extension": ".py",
      "mimetype": "text/x-python",
      "name": "python",
      "nbconvert_exporter": "python",
      "pygments_lexer": "ipython3",
      "version": "3.9.5"
    }
  },
  "nbformat": 4,
  "nbformat_minor": 0
}
